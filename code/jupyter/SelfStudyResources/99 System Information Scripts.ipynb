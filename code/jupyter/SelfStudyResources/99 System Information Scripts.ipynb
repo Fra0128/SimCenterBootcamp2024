{
 "cells": [
  {
   "cell_type": "markdown",
   "metadata": {},
   "source": [
    "# A Python Quick Start Tutorial - System Information Scripts\n",
    "\n",
    "## by Peter Mackenzie-Helnwein\n",
    "University of Washington, Seattle, WA\n",
    "\n",
    "pmackenz@uw.edu          \n",
    "https://www.ce.washington.edu/facultyfinder/peter-mackenzie-helnwein"
   ]
  },
  {
   "cell_type": "markdown",
   "metadata": {},
   "source": [
    "## System Information"
   ]
  },
  {
   "cell_type": "markdown",
   "metadata": {},
   "source": [
    "### Which operation system"
   ]
  },
  {
   "cell_type": "code",
   "execution_count": 8,
   "metadata": {},
   "outputs": [
    {
     "name": "stdout",
     "output_type": "stream",
     "text": [
      "Windows-10-10.0.19045-SP0\n",
      "Windows\n",
      "MSI\n",
      "\n",
      "('10', '10.0.19045', 'SP0', 'Multiprocessor Free')\n",
      "('', ('', '', ''), '')\n"
     ]
    }
   ],
   "source": [
    "import platform\n",
    "\n",
    "print(platform.platform())\n",
    "print(platform.system())\n",
    "print(platform.node())\n",
    "\n",
    "print()\n",
    "\n",
    "print(platform.win32_ver())\n",
    "print(platform.mac_ver())"
   ]
  },
  {
   "cell_type": "markdown",
   "metadata": {},
   "source": [
    "### Hardware information"
   ]
  },
  {
   "cell_type": "code",
   "execution_count": 9,
   "metadata": {},
   "outputs": [
    {
     "name": "stdout",
     "output_type": "stream",
     "text": [
      "('64bit', 'WindowsPE')\n",
      "AMD64\n",
      "Intel64 Family 6 Model 94 Stepping 3, GenuineIntel\n"
     ]
    }
   ],
   "source": [
    "import platform\n",
    "\n",
    "print(platform.architecture())\n",
    "print(platform.machine())\n",
    "print(platform.processor())"
   ]
  },
  {
   "cell_type": "markdown",
   "metadata": {},
   "source": [
    "### uname (summary)"
   ]
  },
  {
   "cell_type": "code",
   "execution_count": 10,
   "metadata": {},
   "outputs": [
    {
     "name": "stdout",
     "output_type": "stream",
     "text": [
      "uname_result(system='Windows', node='MSI', release='10', version='10.0.19045', machine='AMD64')\n",
      "\n",
      "sysname -> Windows\n",
      "nodename -> MSI\n",
      "release -> 10\n",
      "version -> 10.0.19045\n",
      "root -> AMD64\n",
      "machine -> Intel64 Family 6 Model 94 Stepping 3, GenuineIntel\n"
     ]
    }
   ],
   "source": [
    "import platform\n",
    "\n",
    "sysinfo = platform.uname()\n",
    "print(sysinfo)\n",
    "\n",
    "print()\n",
    "\n",
    "attributes = ['sysname', 'nodename', 'release', 'version', 'root','machine','processor']\n",
    "d = {attr : value for attr,value in zip(attributes, sysinfo)}\n",
    "for key in d:\n",
    "    print(\"{} -> {}\".format(key,d[key]))"
   ]
  },
  {
   "cell_type": "markdown",
   "metadata": {},
   "source": [
    "## User Environment "
   ]
  },
  {
   "cell_type": "markdown",
   "metadata": {},
   "source": [
    "### Finding the python executable"
   ]
  },
  {
   "cell_type": "code",
   "execution_count": 11,
   "metadata": {},
   "outputs": [
    {
     "name": "stdout",
     "output_type": "stream",
     "text": [
      "C:\\Python312\\python.exe\n"
     ]
    }
   ],
   "source": [
    "import sys\n",
    "\n",
    "print(sys.executable)"
   ]
  },
  {
   "cell_type": "markdown",
   "metadata": {},
   "source": [
    "### Checking environment variables"
   ]
  },
  {
   "cell_type": "markdown",
   "metadata": {},
   "source": [
    "**PATH**"
   ]
  },
  {
   "cell_type": "code",
   "execution_count": 12,
   "metadata": {},
   "outputs": [
    {
     "name": "stdout",
     "output_type": "stream",
     "text": [
      "PATH=C:\\Users\\Francesco\\bin;C:\\Program Files\\Git\\mingw64\\bin;C:\\Program Files\\Git\\usr\\local\\bin;C:\\Program Files\\Git\\usr\\bin;C:\\Program Files\\Git\\usr\\bin;C:\\Program Files\\Git\\mingw64\\bin;C:\\Program Files\\Git\\usr\\bin;C:\\Users\\Francesco\\bin;C:\\Python312\\Scripts;C:\\Python312;C:\\Users\\Francesco\\AppData\\Local\\Programs\\python\\Python37-32\\Scripts;C:\\Users\\Francesco\\AppData\\Local\\Programs\\python\\Python37-32;C:\\Program Files\\NVIDIA GPU Computing Toolkit\\CUDA\\v12.2\\bin;C:\\Program Files\\NVIDIA GPU Computing Toolkit\\CUDA\\v12.2\\libnvvp;C:\\ProgramData\\Oracle\\Java\\javapath;C:\\Program Files (x86)\\Intel\\iCLS Client;C:\\Program Files\\Intel\\iCLS Client;C:\\Windows\\system32;C:\\Windows;C:\\Windows\\System32\\Wbem;C:\\Windows\\System32\\WindowsPowerShell\\v1.0;C:\\Program Files (x86)\\Intel\\Intel(R) Management Engine Components\\DAL;C:\\Program Files\\Intel\\Intel(R) Management Engine Components\\DAL;C:\\Program Files (x86)\\Intel\\Intel(R) Management Engine Components\\IPT;C:\\Program Files\\Intel\\Intel(R) Management Engine Components\\IPT;C:\\Program Files\\Intel\\WiFi\\bin;C:\\Program Files\\Common Files\\Intel\\WirelessCommon;C:\\WINDOWS\\system32;C:\\WINDOWS;C:\\WINDOWS\\System32\\Wbem;C:\\WINDOWS\\System32\\WindowsPowerShell\\v1.0;C:\\Program Files\\Common Files\\Autodesk Shared;C:\\WINDOWS\\System32\\OpenSSH;C:\\Program Files\\Git\\cmd;C:\\Program Files (x86)\\Calibre2;C:\\Users\\Francesco\\anaconda3;C:\\Program Files\\Git LFS;C:\\Program Files\\R\\R-4.1.3\\bin;C:\\Program Files\\dotnet;C:\\Program Files\\NVIDIA Corporation\\Nsight Compute 2023.2.2;C:\\Program Files (x86)\\NVIDIA Corporation\\PhysX\\Common;C:\\Program Files\\NVIDIA Corporation\\NVIDIA NvDLISR;C:\\Program Files\\nodejs;C:\\ProgramData\\chocolatey\\bin;C:\\Program Files\\Graphviz\\bin;C:\\Program Files\\MATLAB\\R2024a\\bin;C:\\Users\\Francesco\\anaconda3\\Scripts;C:\\Users\\Francesco\\anaconda3\\Library\\bin;C:\\Tcl\\bin;C:\\Users\\Francesco\\AppData\\Local\\Microsoft\\WindowsApps;C:\\Python312\\Scripts;C:\\Python312;C:\\Users\\Francesco\\AppData\\Local\\Programs\\python\\Python37-32\\Scripts;C:\\Users\\Francesco\\AppData\\Local\\Programs\\python\\Python37-32;C:\\Program Files\\NVIDIA GPU Computing Toolkit\\CUDA\\v12.2\\bin;C:\\Program Files\\NVIDIA GPU Computing Toolkit\\CUDA\\v12.2\\libnvvp;C:\\ProgramData\\Oracle\\Java\\javapath;C:\\Program Files (x86)\\Intel\\iCLS Client;C:\\Program Files\\Intel\\iCLS Client;C:\\Windows\\system32;C:\\Windows;C:\\Windows\\System32\\Wbem;C:\\Windows\\System32\\WindowsPowerShell\\v1.0;C:\\Program Files (x86)\\Intel\\Intel(R) Management Engine Components\\DAL;C:\\Program Files\\Intel\\Intel(R) Management Engine Components\\DAL;C:\\Program Files (x86)\\Intel\\Intel(R) Management Engine Components\\IPT;C:\\Program Files\\Intel\\Intel(R) Management Engine Components\\IPT;C:\\Program Files\\Intel\\WiFi\\bin;C:\\Program Files\\Common Files\\Intel\\WirelessCommon;C:\\WINDOWS\\system32;C:\\WINDOWS;C:\\WINDOWS\\System32\\Wbem;C:\\WINDOWS\\System32\\WindowsPowerShell\\v1.0;C:\\Program Files\\Common Files\\Autodesk Shared;C:\\WINDOWS\\System32\\OpenSSH;C:\\Program Files\\Git\\cmd;C:\\Program Files (x86)\\Calibre2;C:\\Users\\Francesco\\anaconda3;C:\\Program Files\\Git LFS;C:\\Program Files\\R\\R-4.1.3\\bin;C:\\Program Files\\dotnet;C:\\Program Files\\NVIDIA Corporation\\Nsight Compute 2023.2.2;C:\\Program Files (x86)\\NVIDIA Corporation\\PhysX\\Common;C:\\Program Files\\NVIDIA Corporation\\NVIDIA NvDLISR;C:\\Program Files\\nodejs;C:\\ProgramData\\chocolatey\\bin;C:\\Program Files\\Graphviz\\bin;C:\\Program Files\\MATLAB\\R2024a\\bin;C:\\Users\\Francesco\\anaconda3\\Scripts;C:\\Users\\Francesco\\anaconda3\\Library\\bin;C:\\Users\\Francesco\\AppData\\Local\\Programs\\MiKTeX\\miktex\\bin\\x64;C:\\Users\\Francesco\\.dotnet\\tools;C:\\Users\\Francesco\\AppData\\Local\\GitHubDesktop\\bin;C:\\Users\\Francesco\\AppData\\Local\\Programs\\Microsoft VS Code\\bin;C:\\Users\\Francesco\\AppData\\Roaming\\npm;C:\\Program Files\\Git\\usr\\bin\\vendor_perl;C:\\Program Files\\Git\\usr\\bin\\core_perl\n",
      "\n",
      "PATH includes the following:\n",
      "-------------------------------\n",
      "C\n",
      "\\Users\\Francesco\\bin;C\n",
      "\\Program Files\\Git\\mingw64\\bin;C\n",
      "\\Program Files\\Git\\usr\\local\\bin;C\n",
      "\\Program Files\\Git\\usr\\bin;C\n",
      "\\Program Files\\Git\\usr\\bin;C\n",
      "\\Program Files\\Git\\mingw64\\bin;C\n",
      "\\Program Files\\Git\\usr\\bin;C\n",
      "\\Users\\Francesco\\bin;C\n",
      "\\Python312\\Scripts;C\n",
      "\\Python312;C\n",
      "\\Users\\Francesco\\AppData\\Local\\Programs\\python\\Python37-32\\Scripts;C\n",
      "\\Users\\Francesco\\AppData\\Local\\Programs\\python\\Python37-32;C\n",
      "\\Program Files\\NVIDIA GPU Computing Toolkit\\CUDA\\v12.2\\bin;C\n",
      "\\Program Files\\NVIDIA GPU Computing Toolkit\\CUDA\\v12.2\\libnvvp;C\n",
      "\\ProgramData\\Oracle\\Java\\javapath;C\n",
      "\\Program Files (x86)\\Intel\\iCLS Client;C\n",
      "\\Program Files\\Intel\\iCLS Client;C\n",
      "\\Windows\\system32;C\n",
      "\\Windows;C\n",
      "\\Windows\\System32\\Wbem;C\n",
      "\\Windows\\System32\\WindowsPowerShell\\v1.0;C\n",
      "\\Program Files (x86)\\Intel\\Intel(R) Management Engine Components\\DAL;C\n",
      "\\Program Files\\Intel\\Intel(R) Management Engine Components\\DAL;C\n",
      "\\Program Files (x86)\\Intel\\Intel(R) Management Engine Components\\IPT;C\n",
      "\\Program Files\\Intel\\Intel(R) Management Engine Components\\IPT;C\n",
      "\\Program Files\\Intel\\WiFi\\bin;C\n",
      "\\Program Files\\Common Files\\Intel\\WirelessCommon;C\n",
      "\\WINDOWS\\system32;C\n",
      "\\WINDOWS;C\n",
      "\\WINDOWS\\System32\\Wbem;C\n",
      "\\WINDOWS\\System32\\WindowsPowerShell\\v1.0;C\n",
      "\\Program Files\\Common Files\\Autodesk Shared;C\n",
      "\\WINDOWS\\System32\\OpenSSH;C\n",
      "\\Program Files\\Git\\cmd;C\n",
      "\\Program Files (x86)\\Calibre2;C\n",
      "\\Users\\Francesco\\anaconda3;C\n",
      "\\Program Files\\Git LFS;C\n",
      "\\Program Files\\R\\R-4.1.3\\bin;C\n",
      "\\Program Files\\dotnet;C\n",
      "\\Program Files\\NVIDIA Corporation\\Nsight Compute 2023.2.2;C\n",
      "\\Program Files (x86)\\NVIDIA Corporation\\PhysX\\Common;C\n",
      "\\Program Files\\NVIDIA Corporation\\NVIDIA NvDLISR;C\n",
      "\\Program Files\\nodejs;C\n",
      "\\ProgramData\\chocolatey\\bin;C\n",
      "\\Program Files\\Graphviz\\bin;C\n",
      "\\Program Files\\MATLAB\\R2024a\\bin;C\n",
      "\\Users\\Francesco\\anaconda3\\Scripts;C\n",
      "\\Users\\Francesco\\anaconda3\\Library\\bin;C\n",
      "\\Tcl\\bin;C\n",
      "\\Users\\Francesco\\AppData\\Local\\Microsoft\\WindowsApps;C\n",
      "\\Python312\\Scripts;C\n",
      "\\Python312;C\n",
      "\\Users\\Francesco\\AppData\\Local\\Programs\\python\\Python37-32\\Scripts;C\n",
      "\\Users\\Francesco\\AppData\\Local\\Programs\\python\\Python37-32;C\n",
      "\\Program Files\\NVIDIA GPU Computing Toolkit\\CUDA\\v12.2\\bin;C\n",
      "\\Program Files\\NVIDIA GPU Computing Toolkit\\CUDA\\v12.2\\libnvvp;C\n",
      "\\ProgramData\\Oracle\\Java\\javapath;C\n",
      "\\Program Files (x86)\\Intel\\iCLS Client;C\n",
      "\\Program Files\\Intel\\iCLS Client;C\n",
      "\\Windows\\system32;C\n",
      "\\Windows;C\n",
      "\\Windows\\System32\\Wbem;C\n",
      "\\Windows\\System32\\WindowsPowerShell\\v1.0;C\n",
      "\\Program Files (x86)\\Intel\\Intel(R) Management Engine Components\\DAL;C\n",
      "\\Program Files\\Intel\\Intel(R) Management Engine Components\\DAL;C\n",
      "\\Program Files (x86)\\Intel\\Intel(R) Management Engine Components\\IPT;C\n",
      "\\Program Files\\Intel\\Intel(R) Management Engine Components\\IPT;C\n",
      "\\Program Files\\Intel\\WiFi\\bin;C\n",
      "\\Program Files\\Common Files\\Intel\\WirelessCommon;C\n",
      "\\WINDOWS\\system32;C\n",
      "\\WINDOWS;C\n",
      "\\WINDOWS\\System32\\Wbem;C\n",
      "\\WINDOWS\\System32\\WindowsPowerShell\\v1.0;C\n",
      "\\Program Files\\Common Files\\Autodesk Shared;C\n",
      "\\WINDOWS\\System32\\OpenSSH;C\n",
      "\\Program Files\\Git\\cmd;C\n",
      "\\Program Files (x86)\\Calibre2;C\n",
      "\\Users\\Francesco\\anaconda3;C\n",
      "\\Program Files\\Git LFS;C\n",
      "\\Program Files\\R\\R-4.1.3\\bin;C\n",
      "\\Program Files\\dotnet;C\n",
      "\\Program Files\\NVIDIA Corporation\\Nsight Compute 2023.2.2;C\n",
      "\\Program Files (x86)\\NVIDIA Corporation\\PhysX\\Common;C\n",
      "\\Program Files\\NVIDIA Corporation\\NVIDIA NvDLISR;C\n",
      "\\Program Files\\nodejs;C\n",
      "\\ProgramData\\chocolatey\\bin;C\n",
      "\\Program Files\\Graphviz\\bin;C\n",
      "\\Program Files\\MATLAB\\R2024a\\bin;C\n",
      "\\Users\\Francesco\\anaconda3\\Scripts;C\n",
      "\\Users\\Francesco\\anaconda3\\Library\\bin;C\n",
      "\\Users\\Francesco\\AppData\\Local\\Programs\\MiKTeX\\miktex\\bin\\x64;C\n",
      "\\Users\\Francesco\\.dotnet\\tools;C\n",
      "\\Users\\Francesco\\AppData\\Local\\GitHubDesktop\\bin;C\n",
      "\\Users\\Francesco\\AppData\\Local\\Programs\\Microsoft VS Code\\bin;C\n",
      "\\Users\\Francesco\\AppData\\Roaming\\npm;C\n",
      "\\Program Files\\Git\\usr\\bin\\vendor_perl;C\n",
      "\\Program Files\\Git\\usr\\bin\\core_perl\n"
     ]
    }
   ],
   "source": [
    "import os\n",
    "path = os.environ['PATH']\n",
    "\n",
    "print(f\"PATH={path}\")\n",
    "print(\"\\nPATH includes the following:\\n-------------------------------\")\n",
    "for location in path.split(':'):\n",
    "    print(location)"
   ]
  },
  {
   "cell_type": "markdown",
   "metadata": {},
   "source": [
    "**User HOME folder**"
   ]
  },
  {
   "cell_type": "code",
   "execution_count": 13,
   "metadata": {},
   "outputs": [
    {
     "name": "stdout",
     "output_type": "stream",
     "text": [
      "C:\\Users\\Francesco\n"
     ]
    }
   ],
   "source": [
    "import os\n",
    "print(os.environ['HOME'])"
   ]
  },
  {
   "cell_type": "markdown",
   "metadata": {},
   "source": [
    "**All** environment variables"
   ]
  },
  {
   "cell_type": "code",
   "execution_count": 14,
   "metadata": {},
   "outputs": [
    {
     "name": "stdout",
     "output_type": "stream",
     "text": [
      "ACLOCAL_PATH=C:\\Program Files\\Git\\mingw64\\share\\aclocal;C:\\Program Files\\Git\\usr\\share\\aclocal\n",
      "AGSDESKTOPJAVA=C:\\Program Files (x86)\\ArcGIS\\Desktop10.8\\\n",
      "ALLUSERSPROFILE=C:\\ProgramData\n",
      "APPDATA=C:\\Users\\Francesco\\AppData\\Roaming\n",
      "COMMONPROGRAMFILES=C:\\Program Files\\Common Files\n",
      "COMPUTERNAME=MSI\n",
      "COMSPEC=C:\\WINDOWS\\system32\\cmd.exe\n",
      "CONFIG_SITE=C:/Program Files/Git/mingw64/etc/config.site\n",
      "CUDA_PATH=C:\\Program Files\\NVIDIA GPU Computing Toolkit\\CUDA\\v12.2\n",
      "CUDA_PATH_V12_2=C:\\Program Files\\NVIDIA GPU Computing Toolkit\\CUDA\\v12.2\n",
      "CHOCOLATEYINSTALL=C:\\ProgramData\\chocolatey\n",
      "CHOCOLATEYLASTPATHUPDATE=133461716677675014\n",
      "COMMONPROGRAMFILES(X86)=C:\\Program Files (x86)\\Common Files\n",
      "COMMONPROGRAMW6432=C:\\Program Files\\Common Files\n",
      "DISPLAY=needs-to-be-defined\n",
      "DRIVERDATA=C:\\Windows\\System32\\Drivers\\DriverData\n",
      "EXEPATH=C:\\Program Files\\Git\n",
      "FPS_BROWSER_APP_PROFILE_STRING=Internet Explorer\n",
      "FPS_BROWSER_USER_PROFILE_STRING=Default\n",
      "GIT_LFS_PATH=C:\\Program Files\\Git LFS\n",
      "GIT_PS1_SHOWDIRTYSTATE=1\n",
      "HOME=C:\\Users\\Francesco\n",
      "HOMEDRIVE=C:\n",
      "HOMEPATH=\\Users\\Francesco\n",
      "HOSTNAME=MSI\n",
      "INFOPATH=C:\\Program Files\\Git\\usr\\local\\info;C:\\Program Files\\Git\\usr\\share\\info;C:\\Program Files\\Git\\usr\\info;C:\\Program Files\\Git\\share\\info\n",
      "LANG=en_US.UTF-8\n",
      "LOCALAPPDATA=C:\\Users\\Francesco\\AppData\\Local\n",
      "LOGONSERVER=\\\\MSI\n",
      "MANPATH=C:\\Program Files\\Git\\mingw64\\local\\man;C:\\Program Files\\Git\\mingw64\\share\\man;C:\\Program Files\\Git\\usr\\local\\man;C:\\Program Files\\Git\\usr\\share\\man;C:\\Program Files\\Git\\usr\\man;C:\\Program Files\\Git\\share\\man\n",
      "MINGW_CHOST=x86_64-w64-mingw32\n",
      "MINGW_PACKAGE_PREFIX=mingw-w64-x86_64\n",
      "MINGW_PREFIX=C:/Program Files/Git/mingw64\n",
      "MSYSTEM=MINGW64\n",
      "MSYSTEM_CARCH=x86_64\n",
      "MSYSTEM_CHOST=x86_64-w64-mingw32\n",
      "MSYSTEM_PREFIX=C:/Program Files/Git/mingw64\n",
      "NUMBER_OF_PROCESSORS=8\n",
      "OLDPWD=C:/Users/Francesco/Desktop/github\n",
      "ORIGINAL_PATH=C:\\Program Files\\Git\\mingw64\\bin;C:\\Program Files\\Git\\usr\\bin;C:\\Users\\Francesco\\bin;C:\\Python312\\Scripts;C:\\Python312;C:\\Users\\Francesco\\AppData\\Local\\Programs\\python\\Python37-32\\Scripts;C:\\Users\\Francesco\\AppData\\Local\\Programs\\python\\Python37-32;C:\\Program Files\\NVIDIA GPU Computing Toolkit\\CUDA\\v12.2\\bin;C:\\Program Files\\NVIDIA GPU Computing Toolkit\\CUDA\\v12.2\\libnvvp;C:\\ProgramData\\Oracle\\Java\\javapath;C:\\Program Files (x86)\\Intel\\iCLS Client;C:\\Program Files\\Intel\\iCLS Client;C:\\Windows\\system32;C:\\Windows;C:\\Windows\\System32\\Wbem;C:\\Windows\\System32\\WindowsPowerShell\\v1.0;C:\\Program Files (x86)\\Intel\\Intel(R) Management Engine Components\\DAL;C:\\Program Files\\Intel\\Intel(R) Management Engine Components\\DAL;C:\\Program Files (x86)\\Intel\\Intel(R) Management Engine Components\\IPT;C:\\Program Files\\Intel\\Intel(R) Management Engine Components\\IPT;C:\\Program Files\\Intel\\WiFi\\bin;C:\\Program Files\\Common Files\\Intel\\WirelessCommon;C:\\WINDOWS\\system32;C:\\WINDOWS;C:\\WINDOWS\\System32\\Wbem;C:\\WINDOWS\\System32\\WindowsPowerShell\\v1.0;C:\\Program Files\\Common Files\\Autodesk Shared;C:\\WINDOWS\\System32\\OpenSSH;C:\\Program Files\\Git\\cmd;C:\\Program Files (x86)\\Calibre2;C:\\Users\\Francesco\\anaconda3;C:\\Program Files\\Git LFS;C:\\Program Files\\R\\R-4.1.3\\bin;C:\\Program Files\\dotnet;C:\\Program Files\\NVIDIA Corporation\\Nsight Compute 2023.2.2;C:\\Program Files (x86)\\NVIDIA Corporation\\PhysX\\Common;C:\\Program Files\\NVIDIA Corporation\\NVIDIA NvDLISR;C:\\Program Files\\nodejs;C:\\ProgramData\\chocolatey\\bin;C:\\Program Files\\Graphviz\\bin;C:\\Program Files\\MATLAB\\R2024a\\bin;C:\\Users\\Francesco\\anaconda3\\Scripts;C:\\Users\\Francesco\\anaconda3\\Library\\bin;C:\\Tcl\\bin;C:\\Users\\Francesco\\AppData\\Local\\Microsoft\\WindowsApps;C:\\Python312\\Scripts;C:\\Python312;C:\\Users\\Francesco\\AppData\\Local\\Programs\\python\\Python37-32\\Scripts;C:\\Users\\Francesco\\AppData\\Local\\Programs\\python\\Python37-32;C:\\Program Files\\NVIDIA GPU Computing Toolkit\\CUDA\\v12.2\\bin;C:\\Program Files\\NVIDIA GPU Computing Toolkit\\CUDA\\v12.2\\libnvvp;C:\\ProgramData\\Oracle\\Java\\javapath;C:\\Program Files (x86)\\Intel\\iCLS Client;C:\\Program Files\\Intel\\iCLS Client;C:\\Windows\\system32;C:\\Windows;C:\\Windows\\System32\\Wbem;C:\\Windows\\System32\\WindowsPowerShell\\v1.0;C:\\Program Files (x86)\\Intel\\Intel(R) Management Engine Components\\DAL;C:\\Program Files\\Intel\\Intel(R) Management Engine Components\\DAL;C:\\Program Files (x86)\\Intel\\Intel(R) Management Engine Components\\IPT;C:\\Program Files\\Intel\\Intel(R) Management Engine Components\\IPT;C:\\Program Files\\Intel\\WiFi\\bin;C:\\Program Files\\Common Files\\Intel\\WirelessCommon;C:\\WINDOWS\\system32;C:\\WINDOWS;C:\\WINDOWS\\System32\\Wbem;C:\\WINDOWS\\System32\\WindowsPowerShell\\v1.0;C:\\Program Files\\Common Files\\Autodesk Shared;C:\\WINDOWS\\System32\\OpenSSH;C:\\Program Files\\Git\\cmd;C:\\Program Files (x86)\\Calibre2;C:\\Users\\Francesco\\anaconda3;C:\\Program Files\\Git LFS;C:\\Program Files\\R\\R-4.1.3\\bin;C:\\Program Files\\dotnet;C:\\Program Files\\NVIDIA Corporation\\Nsight Compute 2023.2.2;C:\\Program Files (x86)\\NVIDIA Corporation\\PhysX\\Common;C:\\Program Files\\NVIDIA Corporation\\NVIDIA NvDLISR;C:\\Program Files\\nodejs;C:\\ProgramData\\chocolatey\\bin;C:\\Program Files\\Graphviz\\bin;C:\\Program Files\\MATLAB\\R2024a\\bin;C:\\Users\\Francesco\\anaconda3\\Scripts;C:\\Users\\Francesco\\anaconda3\\Library\\bin;C:\\Users\\Francesco\\AppData\\Local\\Programs\\MiKTeX\\miktex\\bin\\x64;C:\\Users\\Francesco\\.dotnet\\tools;C:\\Users\\Francesco\\AppData\\Local\\GitHubDesktop\\bin;C:\\Users\\Francesco\\AppData\\Local\\Programs\\Microsoft VS Code\\bin;C:\\Users\\Francesco\\AppData\\Roaming\\npm\n",
      "ORIGINAL_TEMP=C:/Users/FRANCE~1/AppData/Local/Temp\n",
      "ORIGINAL_TMP=C:/Users/FRANCE~1/AppData/Local/Temp\n",
      "OS=Windows_NT\n",
      "ONEDRIVE=C:\\Users\\Francesco\\OneDrive - UdA\n",
      "ONEDRIVECOMMERCIAL=C:\\Users\\Francesco\\OneDrive - UdA\n",
      "ONEDRIVECONSUMER=C:\\Users\\Francesco\\OneDrive\n",
      "PATH=C:\\Users\\Francesco\\bin;C:\\Program Files\\Git\\mingw64\\bin;C:\\Program Files\\Git\\usr\\local\\bin;C:\\Program Files\\Git\\usr\\bin;C:\\Program Files\\Git\\usr\\bin;C:\\Program Files\\Git\\mingw64\\bin;C:\\Program Files\\Git\\usr\\bin;C:\\Users\\Francesco\\bin;C:\\Python312\\Scripts;C:\\Python312;C:\\Users\\Francesco\\AppData\\Local\\Programs\\python\\Python37-32\\Scripts;C:\\Users\\Francesco\\AppData\\Local\\Programs\\python\\Python37-32;C:\\Program Files\\NVIDIA GPU Computing Toolkit\\CUDA\\v12.2\\bin;C:\\Program Files\\NVIDIA GPU Computing Toolkit\\CUDA\\v12.2\\libnvvp;C:\\ProgramData\\Oracle\\Java\\javapath;C:\\Program Files (x86)\\Intel\\iCLS Client;C:\\Program Files\\Intel\\iCLS Client;C:\\Windows\\system32;C:\\Windows;C:\\Windows\\System32\\Wbem;C:\\Windows\\System32\\WindowsPowerShell\\v1.0;C:\\Program Files (x86)\\Intel\\Intel(R) Management Engine Components\\DAL;C:\\Program Files\\Intel\\Intel(R) Management Engine Components\\DAL;C:\\Program Files (x86)\\Intel\\Intel(R) Management Engine Components\\IPT;C:\\Program Files\\Intel\\Intel(R) Management Engine Components\\IPT;C:\\Program Files\\Intel\\WiFi\\bin;C:\\Program Files\\Common Files\\Intel\\WirelessCommon;C:\\WINDOWS\\system32;C:\\WINDOWS;C:\\WINDOWS\\System32\\Wbem;C:\\WINDOWS\\System32\\WindowsPowerShell\\v1.0;C:\\Program Files\\Common Files\\Autodesk Shared;C:\\WINDOWS\\System32\\OpenSSH;C:\\Program Files\\Git\\cmd;C:\\Program Files (x86)\\Calibre2;C:\\Users\\Francesco\\anaconda3;C:\\Program Files\\Git LFS;C:\\Program Files\\R\\R-4.1.3\\bin;C:\\Program Files\\dotnet;C:\\Program Files\\NVIDIA Corporation\\Nsight Compute 2023.2.2;C:\\Program Files (x86)\\NVIDIA Corporation\\PhysX\\Common;C:\\Program Files\\NVIDIA Corporation\\NVIDIA NvDLISR;C:\\Program Files\\nodejs;C:\\ProgramData\\chocolatey\\bin;C:\\Program Files\\Graphviz\\bin;C:\\Program Files\\MATLAB\\R2024a\\bin;C:\\Users\\Francesco\\anaconda3\\Scripts;C:\\Users\\Francesco\\anaconda3\\Library\\bin;C:\\Tcl\\bin;C:\\Users\\Francesco\\AppData\\Local\\Microsoft\\WindowsApps;C:\\Python312\\Scripts;C:\\Python312;C:\\Users\\Francesco\\AppData\\Local\\Programs\\python\\Python37-32\\Scripts;C:\\Users\\Francesco\\AppData\\Local\\Programs\\python\\Python37-32;C:\\Program Files\\NVIDIA GPU Computing Toolkit\\CUDA\\v12.2\\bin;C:\\Program Files\\NVIDIA GPU Computing Toolkit\\CUDA\\v12.2\\libnvvp;C:\\ProgramData\\Oracle\\Java\\javapath;C:\\Program Files (x86)\\Intel\\iCLS Client;C:\\Program Files\\Intel\\iCLS Client;C:\\Windows\\system32;C:\\Windows;C:\\Windows\\System32\\Wbem;C:\\Windows\\System32\\WindowsPowerShell\\v1.0;C:\\Program Files (x86)\\Intel\\Intel(R) Management Engine Components\\DAL;C:\\Program Files\\Intel\\Intel(R) Management Engine Components\\DAL;C:\\Program Files (x86)\\Intel\\Intel(R) Management Engine Components\\IPT;C:\\Program Files\\Intel\\Intel(R) Management Engine Components\\IPT;C:\\Program Files\\Intel\\WiFi\\bin;C:\\Program Files\\Common Files\\Intel\\WirelessCommon;C:\\WINDOWS\\system32;C:\\WINDOWS;C:\\WINDOWS\\System32\\Wbem;C:\\WINDOWS\\System32\\WindowsPowerShell\\v1.0;C:\\Program Files\\Common Files\\Autodesk Shared;C:\\WINDOWS\\System32\\OpenSSH;C:\\Program Files\\Git\\cmd;C:\\Program Files (x86)\\Calibre2;C:\\Users\\Francesco\\anaconda3;C:\\Program Files\\Git LFS;C:\\Program Files\\R\\R-4.1.3\\bin;C:\\Program Files\\dotnet;C:\\Program Files\\NVIDIA Corporation\\Nsight Compute 2023.2.2;C:\\Program Files (x86)\\NVIDIA Corporation\\PhysX\\Common;C:\\Program Files\\NVIDIA Corporation\\NVIDIA NvDLISR;C:\\Program Files\\nodejs;C:\\ProgramData\\chocolatey\\bin;C:\\Program Files\\Graphviz\\bin;C:\\Program Files\\MATLAB\\R2024a\\bin;C:\\Users\\Francesco\\anaconda3\\Scripts;C:\\Users\\Francesco\\anaconda3\\Library\\bin;C:\\Users\\Francesco\\AppData\\Local\\Programs\\MiKTeX\\miktex\\bin\\x64;C:\\Users\\Francesco\\.dotnet\\tools;C:\\Users\\Francesco\\AppData\\Local\\GitHubDesktop\\bin;C:\\Users\\Francesco\\AppData\\Local\\Programs\\Microsoft VS Code\\bin;C:\\Users\\Francesco\\AppData\\Roaming\\npm;C:\\Program Files\\Git\\usr\\bin\\vendor_perl;C:\\Program Files\\Git\\usr\\bin\\core_perl\n",
      "PATHEXT=.COM;.EXE;.BAT;.CMD;.VBS;.VBE;.JS;.JSE;.WSF;.WSH;.MSC;.PY;.PYW\n",
      "PKG_CONFIG_PATH=C:\\Program Files\\Git\\mingw64\\lib\\pkgconfig;C:\\Program Files\\Git\\mingw64\\share\\pkgconfig\n",
      "PLINK_PROTOCOL=ssh\n",
      "PROCESSOR_ARCHITECTURE=AMD64\n",
      "PROCESSOR_IDENTIFIER=Intel64 Family 6 Model 94 Stepping 3, GenuineIntel\n",
      "PROCESSOR_LEVEL=6\n",
      "PROCESSOR_REVISION=5e03\n",
      "PROGRAMFILES=C:\\Program Files\n",
      "PS1=\\[\\033[38;5;203m\\]\\u\\[\\033[38;05;38m\\]$(__git_ps1)\\[\\033[0;34m\\] \\W\n",
      "$ \\[\\033[0m\\]\n",
      "PSMODULEPATH=C:\\Program Files\\WindowsPowerShell\\Modules;C:\\WINDOWS\\system32\\WindowsPowerShell\\v1.0\\Modules\n",
      "PUBLIC=C:\\Users\\Public\n",
      "PWD=C:/Users/Francesco/Desktop/github/SimCenterBootcamp2024\n",
      "PROGRAMDATA=C:\\ProgramData\n",
      "PROGRAMFILES(X86)=C:\\Program Files (x86)\n",
      "PROGRAMW6432=C:\\Program Files\n",
      "SESSIONNAME=Console\n",
      "SHELL=C:\\Program Files\\Git\\usr\\bin\\bash.exe\n",
      "SHLVL=1\n",
      "SSH_ASKPASS=C:/Program Files/Git/mingw64/libexec/git-core/git-gui--askpass\n",
      "SYSTEMDRIVE=C:\n",
      "SYSTEMROOT=C:\\WINDOWS\n",
      "TEMP=C:\\Users\\FRANCE~1\\AppData\\Local\\Temp\n",
      "TERM=xterm-color\n",
      "TERM_PROGRAM=mintty\n",
      "TERM_PROGRAM_VERSION=3.2.0\n",
      "TMP=C:\\Users\\FRANCE~1\\AppData\\Local\\Temp\n",
      "TMPDIR=C:\\Users\\FRANCE~1\\AppData\\Local\\Temp\n",
      "USERDOMAIN=MSI\n",
      "USERDOMAIN_ROAMINGPROFILE=MSI\n",
      "USERNAME=Francesco\n",
      "USERPROFILE=C:\\Users\\Francesco\n",
      "WINDIR=C:\\WINDOWS\n",
      "_=C:/Python312/python\n",
      "__PSLOCKDOWNPOLICY=0\n",
      "CONFIGSETROOT=C:\\WINDOWS\\ConfigSetRoot\n",
      "JPY_SESSION_NAME=C:\\Users\\Francesco\\Desktop\\github\\SimCenterBootcamp2024\\code\\jupyter\\SelfStudyResources\\99 System Information Scripts.ipynb\n",
      "JPY_INTERRUPT_EVENT=3808\n",
      "IPY_INTERRUPT_EVENT=3808\n",
      "JPY_PARENT_PID=3696\n",
      "PYDEVD_USE_FRAME_EVAL=NO\n",
      "CLICOLOR=1\n",
      "FORCE_COLOR=1\n",
      "CLICOLOR_FORCE=1\n",
      "PAGER=cat\n",
      "GIT_PAGER=cat\n",
      "MPLBACKEND=module://matplotlib_inline.backend_inline\n"
     ]
    }
   ],
   "source": [
    "import os\n",
    "\n",
    "for key in os.environ:\n",
    "    print(\"{}={}\".format(key,os.environ[key]))"
   ]
  },
  {
   "cell_type": "code",
   "execution_count": null,
   "metadata": {},
   "outputs": [],
   "source": []
  },
  {
   "cell_type": "code",
   "execution_count": null,
   "metadata": {},
   "outputs": [],
   "source": []
  }
 ],
 "metadata": {
  "kernelspec": {
   "display_name": "Python 3 (ipykernel)",
   "language": "python",
   "name": "python3"
  },
  "language_info": {
   "codemirror_mode": {
    "name": "ipython",
    "version": 3
   },
   "file_extension": ".py",
   "mimetype": "text/x-python",
   "name": "python",
   "nbconvert_exporter": "python",
   "pygments_lexer": "ipython3",
   "version": "3.12.0"
  }
 },
 "nbformat": 4,
 "nbformat_minor": 4
}
